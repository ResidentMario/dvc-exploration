{
 "cells": [
  {
   "cell_type": "markdown",
   "metadata": {},
   "source": [
    "# dvc"
   ]
  },
  {
   "cell_type": "markdown",
   "metadata": {},
   "source": [
    "Some experiments to verify that DVC is able to handle symlinks (in the way proposed by the DVC Integration PDD) well."
   ]
  },
  {
   "cell_type": "markdown",
   "metadata": {},
   "source": [
    "## Experiment 1\n",
    "Download the Digit Recognizer dataset from Kaggle and unzip the files in the `~/Desktop/dvc-data-files` directory. Create symlinks from the `data/` directory with:\n",
    "\n",
    "```\n",
    "ln -sf /Users/alekseybilogur/Desktop/dvc-data-files/train.csv $PWD/data/train.csv\n",
    "ln -sf /Users/alekseybilogur/Desktop/dvc-data-files/test.csv $PWD/data/test.csv\n",
    "```\n",
    "\n",
    "Now run:\n",
    "\n",
    "```\n",
    "dvc run -d data/train.csv -o data/train_head.csv \"head data/train.csv > data/train_head.csv\"\n",
    "```"
   ]
  },
  {
   "cell_type": "code",
   "execution_count": 3,
   "metadata": {},
   "outputs": [
    {
     "name": "stdout",
     "output_type": "stream",
     "text": [
      "      10      10   23405\n"
     ]
    }
   ],
   "source": [
    "!cat ../data/train_head.csv | wc"
   ]
  },
  {
   "cell_type": "code",
   "execution_count": 7,
   "metadata": {},
   "outputs": [
    {
     "name": "stdout",
     "output_type": "stream",
     "text": [
      "total 72\n",
      "drwxr-xr-x  8 alekseybilogur  staff   256B May 18 19:45 \u001b[1m\u001b[36m.\u001b[m\u001b[m\n",
      "drwxr-xr-x  9 alekseybilogur  staff   288B May 18 19:34 \u001b[1m\u001b[36m..\u001b[m\u001b[m\n",
      "-rw-r--r--  1 alekseybilogur  staff    37B May 18 19:33 .gitignore\n",
      "lrwxr-xr-x  1 alekseybilogur  staff    53B May 18 19:45 \u001b[35mtest.csv\u001b[m\u001b[m -> /Users/alekseybilogur/Desktop/dvc-data-files/test.csv\n",
      "-rw-r--r--  1 alekseybilogur  staff   148B May 18 19:20 test.csv.dvc\n",
      "lrwxr-xr-x  1 alekseybilogur  staff    54B May 18 19:24 \u001b[35mtrain.csv\u001b[m\u001b[m -> /Users/alekseybilogur/Desktop/dvc-data-files/train.csv\n",
      "-rw-r--r--  1 alekseybilogur  staff   149B May 18 19:20 train.csv.dvc\n",
      "-rw-r--r--  1 alekseybilogur  staff    23K May 18 19:33 train_head.csv\n"
     ]
    }
   ],
   "source": [
    "!ls -lah ../data/"
   ]
  },
  {
   "cell_type": "markdown",
   "metadata": {},
   "source": [
    "The DVC run command succeeded with the expected result. The symlinks are still in place."
   ]
  },
  {
   "cell_type": "code",
   "execution_count": 9,
   "metadata": {},
   "outputs": [
    {
     "name": "stdout",
     "output_type": "stream",
     "text": [
      "total 0\n",
      "drwxr-xr-x   5 alekseybilogur  staff   160B May 18 19:33 \u001b[1m\u001b[36m.\u001b[m\u001b[m\n",
      "drwxr-xr-x  10 alekseybilogur  staff   320B May 18 19:33 \u001b[1m\u001b[36m..\u001b[m\u001b[m\n",
      "drwxr-xr-x   3 alekseybilogur  staff    96B May 18 19:20 \u001b[1m\u001b[36ma3\u001b[m\u001b[m\n",
      "drwxr-xr-x   3 alekseybilogur  staff    96B May 18 19:33 \u001b[1m\u001b[36me5\u001b[m\u001b[m\n",
      "drwxr-xr-x   3 alekseybilogur  staff    96B May 18 19:20 \u001b[1m\u001b[36mf3\u001b[m\u001b[m\n"
     ]
    }
   ],
   "source": [
    "!ls -lah ../.dvc/cache"
   ]
  },
  {
   "cell_type": "markdown",
   "metadata": {},
   "source": [
    "Of course the cache entry is still populated:"
   ]
  },
  {
   "cell_type": "code",
   "execution_count": 13,
   "metadata": {},
   "outputs": [],
   "source": [
    "# !head ../.dvc/cache/a3/5759d77c0a3dadb4d4253ff87ec430"
   ]
  },
  {
   "cell_type": "markdown",
   "metadata": {},
   "source": [
    "This experiment proves that DVC can target files not under its control which are symlinks.\n",
    "\n",
    "Recall that the cache is where DVC stores the copy of the dataset which it is in control of. Cache entries are files of the `./cache/TWO/MANY` format, where `TWO` is the first two digits of a content hash and `MANY` is the remainder. Files are copied (moved? the docs say \"moved\" and I should verify what the behavior here is exactly) into this directory at `dvc add` time. DVC then creates a `.gitignore` file in the target file's directory, placing the dataset out of `git` version control."
   ]
  },
  {
   "cell_type": "code",
   "execution_count": 18,
   "metadata": {},
   "outputs": [
    {
     "name": "stdout",
     "output_type": "stream",
     "text": [
      "/train.csv\n",
      "/test.csv\n",
      "/train_head.csv\n"
     ]
    }
   ],
   "source": [
    "!cat ../data/.gitignore"
   ]
  }
 ],
 "metadata": {
  "kernelspec": {
   "display_name": "Python 3",
   "language": "python",
   "name": "python3"
  },
  "language_info": {
   "codemirror_mode": {
    "name": "ipython",
    "version": 3
   },
   "file_extension": ".py",
   "mimetype": "text/x-python",
   "name": "python",
   "nbconvert_exporter": "python",
   "pygments_lexer": "ipython3",
   "version": "3.8.2"
  }
 },
 "nbformat": 4,
 "nbformat_minor": 4
}
